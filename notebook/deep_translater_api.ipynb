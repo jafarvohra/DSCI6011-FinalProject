{
 "cells": [
  {
   "cell_type": "markdown",
   "metadata": {},
   "source": [
    "# 1. Import Dependencies"
   ]
  },
  {
   "cell_type": "code",
   "execution_count": 73,
   "metadata": {},
   "outputs": [],
   "source": [
    "import pandas as pd\n",
    "from deep_translator import (GoogleTranslator,\n",
    "                             PonsTranslator,\n",
    "                             LingueeTranslator,\n",
    "                             MyMemoryTranslator,\n",
    "                             YandexTranslator,\n",
    "                             DeeplTranslator,\n",
    "                             QcriTranslator,\n",
    "                             single_detection,\n",
    "                             batch_detection)\n"
   ]
  },
  {
   "cell_type": "code",
   "execution_count": 74,
   "metadata": {},
   "outputs": [],
   "source": [
    "df = pd.read_csv(\"/Volumes/Research/UNH/untitled folder/DSCI6011-FinalProject/data/urdu_corpus_2.csv\", index_col=False)"
   ]
  },
  {
   "cell_type": "code",
   "execution_count": 75,
   "metadata": {},
   "outputs": [
    {
     "data": {
      "text/plain": [
       "(8341, 2)"
      ]
     },
     "execution_count": 75,
     "metadata": {},
     "output_type": "execute_result"
    }
   ],
   "source": [
    "df.shape"
   ]
  },
  {
   "cell_type": "code",
   "execution_count": 76,
   "metadata": {},
   "outputs": [
    {
     "data": {
      "text/plain": [
       "nan"
      ]
     },
     "execution_count": 76,
     "metadata": {},
     "output_type": "execute_result"
    }
   ],
   "source": [
    "df['digital_urdu'][149]"
   ]
  },
  {
   "cell_type": "code",
   "execution_count": 77,
   "metadata": {},
   "outputs": [
    {
     "data": {
      "text/plain": [
       "np.int64(30)"
      ]
     },
     "execution_count": 77,
     "metadata": {},
     "output_type": "execute_result"
    }
   ],
   "source": [
    "df[\"digital_urdu\"].isna().sum()"
   ]
  },
  {
   "cell_type": "code",
   "execution_count": 78,
   "metadata": {},
   "outputs": [],
   "source": [
    "df = df.dropna()"
   ]
  },
  {
   "cell_type": "code",
   "execution_count": 79,
   "metadata": {},
   "outputs": [],
   "source": [
    "df = df.reset_index()"
   ]
  },
  {
   "cell_type": "code",
   "execution_count": 80,
   "metadata": {},
   "outputs": [
    {
     "data": {
      "text/plain": [
       "'میں سے خصوصاً مندرجہ ذیل قابل ذکر ہیں:۔'"
      ]
     },
     "execution_count": 80,
     "metadata": {},
     "output_type": "execute_result"
    }
   ],
   "source": [
    "df['digital_urdu'][149]"
   ]
  },
  {
   "cell_type": "code",
   "execution_count": 81,
   "metadata": {},
   "outputs": [
    {
     "data": {
      "text/plain": [
       "np.int64(0)"
      ]
     },
     "execution_count": 81,
     "metadata": {},
     "output_type": "execute_result"
    }
   ],
   "source": [
    "df[\"digital_urdu\"].isnull().sum()"
   ]
  },
  {
   "cell_type": "code",
   "execution_count": 82,
   "metadata": {},
   "outputs": [
    {
     "data": {
      "text/plain": [
       "(8311, 3)"
      ]
     },
     "execution_count": 82,
     "metadata": {},
     "output_type": "execute_result"
    }
   ],
   "source": [
    "df.shape"
   ]
  },
  {
   "cell_type": "code",
   "execution_count": 83,
   "metadata": {},
   "outputs": [],
   "source": [
    "df[\"english\"] = 1"
   ]
  },
  {
   "cell_type": "code",
   "execution_count": null,
   "metadata": {},
   "outputs": [
    {
     "name": "stderr",
     "output_type": "stream",
     "text": [
      "/var/folders/gc/rnyhdgbn7p96rprc2x8694cc0000gn/T/ipykernel_26703/1850639094.py:7: FutureWarning: ChainedAssignmentError: behaviour will change in pandas 3.0!\n",
      "You are setting values through chained assignment. Currently this works in certain cases, but when using Copy-on-Write (which will become the default behaviour in pandas 3.0) this will never work to update the original DataFrame or Series, because the intermediate object on which we are setting values will behave as a copy.\n",
      "A typical example is when you are setting values in a column of a DataFrame, like:\n",
      "\n",
      "df[\"col\"][row_indexer] = value\n",
      "\n",
      "Use `df.loc[row_indexer, \"col\"] = values` instead, to perform the assignment in a single step and ensure this keeps updating the original `df`.\n",
      "\n",
      "See the caveats in the documentation: https://pandas.pydata.org/pandas-docs/stable/user_guide/indexing.html#returning-a-view-versus-a-copy\n",
      "\n",
      "  df[\"english\"][i] = output_string\n",
      "/var/folders/gc/rnyhdgbn7p96rprc2x8694cc0000gn/T/ipykernel_26703/1850639094.py:7: SettingWithCopyWarning: \n",
      "A value is trying to be set on a copy of a slice from a DataFrame\n",
      "\n",
      "See the caveats in the documentation: https://pandas.pydata.org/pandas-docs/stable/user_guide/indexing.html#returning-a-view-versus-a-copy\n",
      "  df[\"english\"][i] = output_string\n",
      "/var/folders/gc/rnyhdgbn7p96rprc2x8694cc0000gn/T/ipykernel_26703/1850639094.py:7: FutureWarning: Setting an item of incompatible dtype is deprecated and will raise an error in a future version of pandas. Value '\"Shato Brian\" was a member long ago. In the year 5281, \"Kasi Mardi Ladin\"' has dtype incompatible with int64, please explicitly cast to a compatible dtype first.\n",
      "  df[\"english\"][i] = output_string\n"
     ]
    },
    {
     "name": "stdout",
     "output_type": "stream",
     "text": [
      "3100\n",
      "3200\n",
      "3300\n",
      "3400\n",
      "3500\n",
      "3600\n",
      "3700\n",
      "3800\n",
      "3900\n",
      "4000\n",
      "4100\n",
      "4200\n",
      "4300\n",
      "4400\n",
      "4500\n"
     ]
    }
   ],
   "source": [
    "for i in range(3060, df.shape[0]):\n",
    "    input_string = df['digital_urdu'][i]\n",
    "    output_string = GoogleTranslator(source='auto', target='english').translate(input_string)\n",
    "    # lst.append()\n",
    "    if i % 100 == 0:\n",
    "        print(i)\n",
    "    df[\"english\"][i] = output_string\n"
   ]
  },
  {
   "cell_type": "code",
   "execution_count": 47,
   "metadata": {},
   "outputs": [
    {
     "data": {
      "text/html": [
       "<div>\n",
       "<style scoped>\n",
       "    .dataframe tbody tr th:only-of-type {\n",
       "        vertical-align: middle;\n",
       "    }\n",
       "\n",
       "    .dataframe tbody tr th {\n",
       "        vertical-align: top;\n",
       "    }\n",
       "\n",
       "    .dataframe thead th {\n",
       "        text-align: right;\n",
       "    }\n",
       "</style>\n",
       "<table border=\"1\" class=\"dataframe\">\n",
       "  <thead>\n",
       "    <tr style=\"text-align: right;\">\n",
       "      <th></th>\n",
       "      <th>index</th>\n",
       "      <th>file_path</th>\n",
       "      <th>digital_urdu</th>\n",
       "      <th>english</th>\n",
       "    </tr>\n",
       "  </thead>\n",
       "  <tbody>\n",
       "    <tr>\n",
       "      <th>0</th>\n",
       "      <td>0</td>\n",
       "      <td>test/076_022_18.jpg</td>\n",
       "      <td>اندراج و تحریر شرعاً صرف مستحب اور پسندیدہ ہے ...</td>\n",
       "      <td>Recording and writing are only recommended and...</td>\n",
       "    </tr>\n",
       "    <tr>\n",
       "      <th>1</th>\n",
       "      <td>1</td>\n",
       "      <td>test/076_022_16.jpg</td>\n",
       "      <td>اور ہندوستان کی مسلم ریاستوں میں اس پر کم و بی...</td>\n",
       "      <td>And it is more or less implemented in the Musl...</td>\n",
       "    </tr>\n",
       "    <tr>\n",
       "      <th>2</th>\n",
       "      <td>2</td>\n",
       "      <td>test/076_022_15.jpg</td>\n",
       "      <td>بلکہ اس کے نزدیک وہ پسندیدہ اور مستحسن بھی ہے،...</td>\n",
       "      <td>Rather, he is also beloved and desirable to hi...</td>\n",
       "    </tr>\n",
       "    <tr>\n",
       "      <th>3</th>\n",
       "      <td>3</td>\n",
       "      <td>test/076_022_14.jpg</td>\n",
       "      <td>جہاں تک پہلی صورت کاتعلق ہے، شریعت اسلامیہ کی ...</td>\n",
       "      <td>As far as the first case is concerned, it is n...</td>\n",
       "    </tr>\n",
       "    <tr>\n",
       "      <th>4</th>\n",
       "      <td>4</td>\n",
       "      <td>test/076_022_13.jpg</td>\n",
       "      <td>ہے، اس لیے اس کولازمی طورپر جاری کردیاجائے، اس...</td>\n",
       "      <td>Therefore, it must be released, it is called f...</td>\n",
       "    </tr>\n",
       "    <tr>\n",
       "      <th>5</th>\n",
       "      <td>5</td>\n",
       "      <td>test/076_022_12.jpg</td>\n",
       "      <td>مقدمات سے نجات مل سکتی ہے، نکاح کے ثبوت اورک د...</td>\n",
       "      <td>It can save you from lawsuits, and it would be...</td>\n",
       "    </tr>\n",
       "    <tr>\n",
       "      <th>6</th>\n",
       "      <td>6</td>\n",
       "      <td>test/076_022_11.jpg</td>\n",
       "      <td>دوسرا پہلو یہ ہے کہ چونکہ اس اندراج میں بہت سی...</td>\n",
       "      <td>The other aspect is that since there are many ...</td>\n",
       "    </tr>\n",
       "    <tr>\n",
       "      <th>7</th>\n",
       "      <td>7</td>\n",
       "      <td>test/076_022_10.jpg</td>\n",
       "      <td>جس قدر لوگ اس پر عمل کریں اتنا ہی فائدہ ہے، اس...</td>\n",
       "      <td>The more people follow it, the more it benefit...</td>\n",
       "    </tr>\n",
       "    <tr>\n",
       "      <th>8</th>\n",
       "      <td>8</td>\n",
       "      <td>test/076_022_9.jpg</td>\n",
       "      <td>ایک تویہ کہ اس قسم کااندراج مفید ونافع ہے، اور...</td>\n",
       "      <td>On the one hand, this type of entry is useful ...</td>\n",
       "    </tr>\n",
       "    <tr>\n",
       "      <th>9</th>\n",
       "      <td>9</td>\n",
       "      <td>test/076_022_7.jpg</td>\n",
       "      <td>کے لیے غیر ضروری تسلیم کرتے ہوئے اس حیثیت سے ی...</td>\n",
       "      <td>This issue can be discussed in this capacity, ...</td>\n",
       "    </tr>\n",
       "  </tbody>\n",
       "</table>\n",
       "</div>"
      ],
      "text/plain": [
       "   index            file_path  \\\n",
       "0      0  test/076_022_18.jpg   \n",
       "1      1  test/076_022_16.jpg   \n",
       "2      2  test/076_022_15.jpg   \n",
       "3      3  test/076_022_14.jpg   \n",
       "4      4  test/076_022_13.jpg   \n",
       "5      5  test/076_022_12.jpg   \n",
       "6      6  test/076_022_11.jpg   \n",
       "7      7  test/076_022_10.jpg   \n",
       "8      8   test/076_022_9.jpg   \n",
       "9      9   test/076_022_7.jpg   \n",
       "\n",
       "                                        digital_urdu  \\\n",
       "0  اندراج و تحریر شرعاً صرف مستحب اور پسندیدہ ہے ...   \n",
       "1  اور ہندوستان کی مسلم ریاستوں میں اس پر کم و بی...   \n",
       "2  بلکہ اس کے نزدیک وہ پسندیدہ اور مستحسن بھی ہے،...   \n",
       "3  جہاں تک پہلی صورت کاتعلق ہے، شریعت اسلامیہ کی ...   \n",
       "4  ہے، اس لیے اس کولازمی طورپر جاری کردیاجائے، اس...   \n",
       "5  مقدمات سے نجات مل سکتی ہے، نکاح کے ثبوت اورک د...   \n",
       "6  دوسرا پہلو یہ ہے کہ چونکہ اس اندراج میں بہت سی...   \n",
       "7  جس قدر لوگ اس پر عمل کریں اتنا ہی فائدہ ہے، اس...   \n",
       "8  ایک تویہ کہ اس قسم کااندراج مفید ونافع ہے، اور...   \n",
       "9  کے لیے غیر ضروری تسلیم کرتے ہوئے اس حیثیت سے ی...   \n",
       "\n",
       "                                             english  \n",
       "0  Recording and writing are only recommended and...  \n",
       "1  And it is more or less implemented in the Musl...  \n",
       "2  Rather, he is also beloved and desirable to hi...  \n",
       "3  As far as the first case is concerned, it is n...  \n",
       "4  Therefore, it must be released, it is called f...  \n",
       "5  It can save you from lawsuits, and it would be...  \n",
       "6  The other aspect is that since there are many ...  \n",
       "7  The more people follow it, the more it benefit...  \n",
       "8  On the one hand, this type of entry is useful ...  \n",
       "9  This issue can be discussed in this capacity, ...  "
      ]
     },
     "execution_count": 47,
     "metadata": {},
     "output_type": "execute_result"
    }
   ],
   "source": [
    "df.head(10)"
   ]
  },
  {
   "cell_type": "code",
   "execution_count": null,
   "metadata": {},
   "outputs": [],
   "source": [
    "# df.to_csv('/Volumes/Research/UNH/untitled folder/DSCI6011-FinalProject/data/urdu_english.csv', index=False)"
   ]
  },
  {
   "cell_type": "code",
   "execution_count": 66,
   "metadata": {},
   "outputs": [],
   "source": [
    "df2 = df.__deepcopy__()"
   ]
  },
  {
   "cell_type": "code",
   "execution_count": null,
   "metadata": {},
   "outputs": [],
   "source": [
    "# df2 = df2[0:3059]"
   ]
  },
  {
   "cell_type": "code",
   "execution_count": 68,
   "metadata": {},
   "outputs": [
    {
     "data": {
      "text/plain": [
       "(3059, 4)"
      ]
     },
     "execution_count": 68,
     "metadata": {},
     "output_type": "execute_result"
    }
   ],
   "source": [
    "df2.shape"
   ]
  },
  {
   "cell_type": "code",
   "execution_count": 69,
   "metadata": {},
   "outputs": [
    {
     "data": {
      "text/html": [
       "<div>\n",
       "<style scoped>\n",
       "    .dataframe tbody tr th:only-of-type {\n",
       "        vertical-align: middle;\n",
       "    }\n",
       "\n",
       "    .dataframe tbody tr th {\n",
       "        vertical-align: top;\n",
       "    }\n",
       "\n",
       "    .dataframe thead th {\n",
       "        text-align: right;\n",
       "    }\n",
       "</style>\n",
       "<table border=\"1\" class=\"dataframe\">\n",
       "  <thead>\n",
       "    <tr style=\"text-align: right;\">\n",
       "      <th></th>\n",
       "      <th>index</th>\n",
       "      <th>file_path</th>\n",
       "      <th>digital_urdu</th>\n",
       "      <th>english</th>\n",
       "    </tr>\n",
       "  </thead>\n",
       "  <tbody>\n",
       "    <tr>\n",
       "      <th>3054</th>\n",
       "      <td>3066</td>\n",
       "      <td>test/068_046_6.jpg</td>\n",
       "      <td>اپریل سنه ۱۸۳ ء میں ”یم۔دی۔لامارتین“ کاانتخاب ...</td>\n",
       "      <td>In April 1833, the election of \"Y. de Lamartin...</td>\n",
       "    </tr>\n",
       "    <tr>\n",
       "      <th>3055</th>\n",
       "      <td>3067</td>\n",
       "      <td>test/068_046_5.jpg</td>\n",
       "      <td>اگر ”برین جر“ نے مقابلہ سے انکار نه کیا ھوتاتو...</td>\n",
       "      <td>If \"Brain Jar\" had not refused the competition...</td>\n",
       "    </tr>\n",
       "    <tr>\n",
       "      <th>3056</th>\n",
       "      <td>3068</td>\n",
       "      <td>test/068_046_4.jpg</td>\n",
       "      <td>منتخب ہوجاتا۔</td>\n",
       "      <td>would be selected.</td>\n",
       "    </tr>\n",
       "    <tr>\n",
       "      <th>3057</th>\n",
       "      <td>3069</td>\n",
       "      <td>test/068_046_3.jpg</td>\n",
       "      <td>اگر ”برین جر“ نے مقابلہ سے انکار نہ کیا ھوتاتو...</td>\n",
       "      <td>If \"Brainjar\" had not refused the competition,...</td>\n",
       "    </tr>\n",
       "    <tr>\n",
       "      <th>3058</th>\n",
       "      <td>3070</td>\n",
       "      <td>test/068_046_2.jpg</td>\n",
       "      <td>بھی منتخب ھوگیااور سنہ ۱۸۲۸ ء میں ”ایم لبرون“ ...</td>\n",
       "      <td>was also elected, and in 1828, \"M. Lebron\" was...</td>\n",
       "    </tr>\n",
       "  </tbody>\n",
       "</table>\n",
       "</div>"
      ],
      "text/plain": [
       "      index           file_path  \\\n",
       "3054   3066  test/068_046_6.jpg   \n",
       "3055   3067  test/068_046_5.jpg   \n",
       "3056   3068  test/068_046_4.jpg   \n",
       "3057   3069  test/068_046_3.jpg   \n",
       "3058   3070  test/068_046_2.jpg   \n",
       "\n",
       "                                           digital_urdu  \\\n",
       "3054  اپریل سنه ۱۸۳ ء میں ”یم۔دی۔لامارتین“ کاانتخاب ...   \n",
       "3055  اگر ”برین جر“ نے مقابلہ سے انکار نه کیا ھوتاتو...   \n",
       "3056                                      منتخب ہوجاتا۔   \n",
       "3057  اگر ”برین جر“ نے مقابلہ سے انکار نہ کیا ھوتاتو...   \n",
       "3058  بھی منتخب ھوگیااور سنہ ۱۸۲۸ ء میں ”ایم لبرون“ ...   \n",
       "\n",
       "                                                english  \n",
       "3054  In April 1833, the election of \"Y. de Lamartin...  \n",
       "3055  If \"Brain Jar\" had not refused the competition...  \n",
       "3056                                 would be selected.  \n",
       "3057  If \"Brainjar\" had not refused the competition,...  \n",
       "3058  was also elected, and in 1828, \"M. Lebron\" was...  "
      ]
     },
     "execution_count": 69,
     "metadata": {},
     "output_type": "execute_result"
    }
   ],
   "source": [
    "df2.tail()"
   ]
  },
  {
   "cell_type": "code",
   "execution_count": null,
   "metadata": {},
   "outputs": [],
   "source": [
    "df2.to_csv('/Volumes/Research/UNH/untitled folder/DSCI6011-FinalProject/data/urdu_english2.csv', index=False)"
   ]
  },
  {
   "cell_type": "code",
   "execution_count": null,
   "metadata": {},
   "outputs": [],
   "source": []
  }
 ],
 "metadata": {
  "kernelspec": {
   "display_name": "urduocr",
   "language": "python",
   "name": "python3"
  },
  "language_info": {
   "codemirror_mode": {
    "name": "ipython",
    "version": 3
   },
   "file_extension": ".py",
   "mimetype": "text/x-python",
   "name": "python",
   "nbconvert_exporter": "python",
   "pygments_lexer": "ipython3",
   "version": "3.11.0"
  }
 },
 "nbformat": 4,
 "nbformat_minor": 2
}
